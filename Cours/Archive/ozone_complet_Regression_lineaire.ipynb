{
 "cells": [
  {
   "attachments": {},
   "cell_type": "markdown",
   "metadata": {},
   "source": [
    "---\n",
    "# Régression linéaire : `ozone_complet`\n",
    "---"
   ]
  },
  {
   "cell_type": "markdown",
   "metadata": {},
   "source": [
    "## Packages"
   ]
  },
  {
   "cell_type": "code",
   "execution_count": null,
   "metadata": {},
   "outputs": [],
   "source": [
    "import numpy as np\n",
    "import pandas as pd\n",
    "\n",
    "import matplotlib.pyplot as plt\n",
    "import seaborn as sns\n",
    "\n",
    "import sys\n",
    "\n",
    "from sklearn.metrics import mean_absolute_percentage_error, root_mean_squared_error\n",
    "from sklearn.model_selection import train_test_split\n",
    "from sklearn.preprocessing import PolynomialFeatures\n",
    "\n",
    "from sklearn.linear_model import LinearRegression\n",
    "\n",
    "from statsmodels.api import OLS\n",
    "from statsmodels.tools import add_constant"
   ]
  },
  {
   "cell_type": "markdown",
   "metadata": {},
   "source": [
    "## Fonctions"
   ]
  },
  {
   "cell_type": "code",
   "execution_count": null,
   "metadata": {},
   "outputs": [],
   "source": [
    "# En local :\n",
    "directory = '/Users/vincentlefieux/Dropbox/Docs_ACADEMIQUE/Codes/_Python/_Fonctions/'\n",
    "\n",
    "# Sur Google collab ou Onyxia (sur un répertoire temporaire) :\n",
    "# directory = ''\n",
    "\n",
    "# Sur Google collab (sur le drive) :\n",
    "# from google.colab import drive\n",
    "# drive.mount('/content/drive')\n",
    "# directory = '/content/drive/MyDrive/Fonctions/Python/'"
   ]
  },
  {
   "cell_type": "code",
   "execution_count": null,
   "metadata": {},
   "outputs": [],
   "source": [
    "sys.path.append(directory)\n",
    "\n",
    "import _regression_lineaire as lr"
   ]
  },
  {
   "attachments": {},
   "cell_type": "markdown",
   "metadata": {},
   "source": [
    "---\n",
    "## 1. Données\n",
    "---\n"
   ]
  },
  {
   "cell_type": "markdown",
   "metadata": {},
   "source": [
    "### 1.1. Importation"
   ]
  },
  {
   "cell_type": "code",
   "execution_count": null,
   "metadata": {},
   "outputs": [],
   "source": [
    "# En local :\n",
    "directory = '/Users/vincentlefieux/Dropbox/Docs_ACADEMIQUE/Data/'\n",
    "\n",
    "# Sur Google collab ou Onyxia (sur un répertoire temporaire) :\n",
    "# directory = ''\n",
    "\n",
    "# Sur Google collab (sur le drive) :\n",
    "# from google.colab import drive\n",
    "# drive.mount('/content/drive')\n",
    "# directory = '/content/drive/MyDrive/Data/'"
   ]
  },
  {
   "cell_type": "code",
   "execution_count": null,
   "metadata": {},
   "outputs": [],
   "source": [
    "data = pd.read_csv(directory + 'ozone_complet.csv',\n",
    "                   header    = 0,\n",
    "                   index_col = 0,\n",
    "                   sep       = ';',\n",
    "                   decimal   = ',')"
   ]
  },
  {
   "cell_type": "code",
   "execution_count": null,
   "metadata": {},
   "outputs": [],
   "source": [
    "data.info()"
   ]
  },
  {
   "cell_type": "code",
   "execution_count": null,
   "metadata": {},
   "outputs": [],
   "source": [
    "data.head()"
   ]
  },
  {
   "cell_type": "markdown",
   "metadata": {},
   "source": [
    "### 1.2. Gestion des données manquantes"
   ]
  },
  {
   "attachments": {},
   "cell_type": "markdown",
   "metadata": {},
   "source": [
    "Vu que les données manquantes concernent essentiellement le pic d'ozone qu'on cherche à prédire, on retire les données manquantes ici :"
   ]
  },
  {
   "cell_type": "code",
   "execution_count": null,
   "metadata": {},
   "outputs": [],
   "source": [
    "missing_percentage = data.isna().mean() * 100\n",
    "\n",
    "print(\"MISSING VALUES :\")\n",
    "if missing_percentage[missing_percentage != 0].empty:\n",
    "    print(\"No\")\n",
    "else:\n",
    "    print(missing_percentage[missing_percentage != 0].sort_values(ascending=False))"
   ]
  },
  {
   "cell_type": "code",
   "execution_count": null,
   "metadata": {},
   "outputs": [],
   "source": [
    "data.dropna(inplace=True)"
   ]
  },
  {
   "cell_type": "markdown",
   "metadata": {},
   "source": [
    "### 1.3. Gestion des variables"
   ]
  },
  {
   "cell_type": "code",
   "execution_count": null,
   "metadata": {},
   "outputs": [],
   "source": [
    "target = 'maxO3'\n",
    "\n",
    "y = data[target]\n",
    "X = data.drop(target, axis=1)"
   ]
  },
  {
   "attachments": {},
   "cell_type": "markdown",
   "metadata": {},
   "source": [
    "### 1.4. Création d'un échantillon de test"
   ]
  },
  {
   "cell_type": "code",
   "execution_count": null,
   "metadata": {},
   "outputs": [],
   "source": [
    "test_portion = 1/5\n",
    "\n",
    "X_train, X_test, y_train, y_test = train_test_split(X, y, test_size=test_portion, shuffle=True)\n",
    "\n",
    "print('Dimensions X_train :', X_train.shape)\n",
    "print('Dimensions X_test  :', X_test.shape)\n",
    "print('Dimensions y_train :', y_train.shape)\n",
    "print('Dimensions y_test  :', y_test.shape)"
   ]
  },
  {
   "attachments": {},
   "cell_type": "markdown",
   "metadata": {},
   "source": [
    "---\n",
    "## 2. Régression linéaire\n",
    "---"
   ]
  },
  {
   "attachments": {},
   "cell_type": "markdown",
   "metadata": {},
   "source": [
    "### 2.1. Modèle complet (apprentissage / test)"
   ]
  },
  {
   "cell_type": "markdown",
   "metadata": {},
   "source": [
    "#### 2.1.1. Estimation"
   ]
  },
  {
   "attachments": {},
   "cell_type": "markdown",
   "metadata": {},
   "source": [
    "##### 2.1.1.1. Estimation avec `statsmodels`"
   ]
  },
  {
   "attachments": {},
   "cell_type": "markdown",
   "metadata": {},
   "source": [
    "La constante n'est pas considérée par défaut dans la commande `OLS` de `statsmodels`, il faut l'ajouter."
   ]
  },
  {
   "cell_type": "code",
   "execution_count": null,
   "metadata": {},
   "outputs": [],
   "source": [
    "linreg_all_model = OLS(y_train, add_constant(X_train))\n",
    "linreg_all = linreg_all_model.fit()\n",
    "linreg_all.summary()"
   ]
  },
  {
   "attachments": {},
   "cell_type": "markdown",
   "metadata": {},
   "source": [
    "##### 2.1.1.2. Estimation avec  `sklearn`"
   ]
  },
  {
   "attachments": {},
   "cell_type": "markdown",
   "metadata": {},
   "source": [
    "La constante est par contre considérée par défaut dans la commande `LinearRegression` de `sklearn`."
   ]
  },
  {
   "cell_type": "code",
   "execution_count": null,
   "metadata": {},
   "outputs": [],
   "source": [
    "linreg_all_model_sk = LinearRegression()\n",
    "linreg_all_sk = linreg_all_model_sk.fit(X_train, y_train)\n",
    "print('Constante :', linreg_all_sk.intercept_)\n",
    "print('Coefficients :', linreg_all_sk.coef_)"
   ]
  },
  {
   "attachments": {},
   "cell_type": "markdown",
   "metadata": {},
   "source": [
    "Si `stasmodels` produit les éléments nécessaires à l'interprétation statistique d'un modèle de régression, il n'en est pas de même pour `sklearn` pour lequel les sorties sont minimalistes."
   ]
  },
  {
   "attachments": {},
   "cell_type": "markdown",
   "metadata": {},
   "source": [
    "#### 2.1.2. Qualité prédictive"
   ]
  },
  {
   "cell_type": "code",
   "execution_count": null,
   "metadata": {},
   "outputs": [],
   "source": [
    "y_test_pred_linreg_all = linreg_all.predict(add_constant(X_test))\n",
    "\n",
    "RMSE_linreg_all = root_mean_squared_error(y_test, y_test_pred_linreg_all)\n",
    "MAPE_linreg_all = mean_absolute_percentage_error(y_test, y_test_pred_linreg_all) * 100\n",
    "\n",
    "print(f'RMSE régression linéaire complète : {RMSE_linreg_all:.2f}')\n",
    "print(f'MAPE régression linéaire complète : {MAPE_linreg_all:.2f}')"
   ]
  },
  {
   "attachments": {},
   "cell_type": "markdown",
   "metadata": {},
   "source": [
    "### 2.2. Modèle complet (validation croisée)"
   ]
  },
  {
   "cell_type": "code",
   "execution_count": null,
   "metadata": {},
   "outputs": [],
   "source": [
    "n_folds = 10\n",
    "\n",
    "fold = np.random.randint(low=0, high=n_folds, size=data.shape[0])\n",
    "\n",
    "nb = np.empty(n_folds, dtype=int)\n",
    "RMSE_linreg_all_CV = np.empty(n_folds, dtype=float)\n",
    "MAPE_linreg_all_CV = np.empty(n_folds, dtype=float)\n",
    "\n",
    "for i in range(n_folds):\n",
    "  \n",
    "  nb[i] = X[fold == i].shape[0]\n",
    "\n",
    "  X_train_CV = X[fold != i]\n",
    "  y_train_CV = y[fold != i]\n",
    "\n",
    "  X_test_CV = X[fold == i]\n",
    "  y_test_CV = y[fold == i]\n",
    "\n",
    "  linreg_all_CV_model = OLS(y_train_CV, add_constant(X_train_CV))\n",
    "  linreg_all_CV = linreg_all_CV_model.fit()\n",
    "  \n",
    "  y_test_CV_pred = linreg_all_CV.predict(add_constant(X_test_CV))\n",
    "\n",
    "  RMSE_linreg_all_CV[i] = root_mean_squared_error(y_test_CV, y_test_CV_pred)\n",
    "  MAPE_linreg_all_CV[i] = mean_absolute_percentage_error(y_test_CV, y_test_CV_pred) * 100\n",
    "\n",
    "RMSE_linreg_all_CV_g = np.sum(nb * RMSE_linreg_all_CV / np.sum(nb))\n",
    "MAPE_linreg_all_CV_g = np.sum(nb * MAPE_linreg_all_CV / np.sum(nb))\n",
    "\n",
    "print(f'RMSE CV régression linéaire complète : {RMSE_linreg_all_CV_g:.2f}')\n",
    "print(f'MAPE CV régression linéaire complète : {MAPE_linreg_all_CV_g:.2f}')"
   ]
  },
  {
   "cell_type": "code",
   "execution_count": null,
   "metadata": {},
   "outputs": [],
   "source": [
    "fig, ax = plt.subplots(figsize=(8, 6))\n",
    "ax.bar(range(n_folds), RMSE_linreg_all_CV)\n",
    "ax.axhline(y=RMSE_linreg_all_CV_g, label='RMSE CV', color='red')\n",
    "#ax.grid()\n",
    "ax.set_xticks(range(n_folds))\n",
    "ax.set_xlabel('Bloc')\n",
    "ax.set_ylabel('RMSE')\n",
    "ax.legend(loc='best')\n",
    "plt.title('Régression linéaire complète (CV)')\n",
    "plt.show()"
   ]
  },
  {
   "cell_type": "code",
   "execution_count": null,
   "metadata": {},
   "outputs": [],
   "source": [
    "fig, ax = plt.subplots(figsize=(8, 6))\n",
    "ax.bar(range(n_folds), MAPE_linreg_all_CV)\n",
    "ax.axhline(y=MAPE_linreg_all_CV_g, label='MAPE CV', color='red')\n",
    "#ax.grid()\n",
    "ax.set_xticks(range(n_folds))\n",
    "ax.set_xlabel('Bloc')\n",
    "ax.set_ylabel('MAPE')\n",
    "ax.legend(loc='best')\n",
    "plt.title('Régression linéaire complète (CV)')\n",
    "plt.show()"
   ]
  },
  {
   "attachments": {},
   "cell_type": "markdown",
   "metadata": {},
   "source": [
    "### 2.3. Modèle avec sélection de variables (apprentissage / test)"
   ]
  },
  {
   "cell_type": "code",
   "execution_count": null,
   "metadata": {},
   "outputs": [],
   "source": [
    "linreg_backward = lr.linreg_backward_proc(add_constant(X_train), y_train, crit='BIC', verbose=True)"
   ]
  },
  {
   "cell_type": "code",
   "execution_count": null,
   "metadata": {},
   "outputs": [],
   "source": [
    "linreg_forward = lr.linreg_forward_proc(add_constant(X_train), y_train, crit='BIC', verbose=True)"
   ]
  },
  {
   "cell_type": "code",
   "execution_count": null,
   "metadata": {},
   "outputs": [],
   "source": [
    "linreg_stepwise = lr.linreg_stepwise_proc(add_constant(X_train), y_train, crit='BIC', verbose=True)"
   ]
  },
  {
   "cell_type": "code",
   "execution_count": null,
   "metadata": {},
   "outputs": [],
   "source": [
    "print('Nombre de paramètres du modèle backward :', linreg_backward.params.shape[0])\n",
    "print('Nombre de paramètres du modèle forward  :', linreg_forward.params.shape[0])\n",
    "print('Nombre de paramètres du modèle stepwise :', linreg_stepwise.params.shape[0])"
   ]
  },
  {
   "cell_type": "code",
   "execution_count": null,
   "metadata": {},
   "outputs": [],
   "source": [
    "print('Covariables du modèle backward :', linreg_backward.model.exog_names)\n",
    "print('Covariables du modèle forward  :', linreg_forward.model.exog_names)\n",
    "print('Covariables du modèle stepwise :', linreg_stepwise.model.exog_names)"
   ]
  },
  {
   "cell_type": "code",
   "execution_count": null,
   "metadata": {},
   "outputs": [],
   "source": [
    "print(f'BIC du modèle backward : {linreg_backward.bic:.2f}')\n",
    "print(f'BIC du modèle forward  : {linreg_forward.bic:.2f}')\n",
    "print(f'BIC du modèle stepwise : {linreg_stepwise.bic:.2f}')"
   ]
  },
  {
   "cell_type": "code",
   "execution_count": null,
   "metadata": {},
   "outputs": [],
   "source": [
    "y_test_pred_linreg_backward = linreg_backward.predict(add_constant(X_test)[linreg_backward.model.exog_names])\n",
    "y_test_pred_linreg_forward  = linreg_forward.predict(add_constant(X_test)[linreg_forward.model.exog_names])\n",
    "y_test_pred_linreg_stepwise = linreg_stepwise.predict(add_constant(X_test)[linreg_stepwise.model.exog_names])\n",
    "\n",
    "RMSE_linreg_backward = root_mean_squared_error(y_test, y_test_pred_linreg_backward)\n",
    "RMSE_linreg_forward  = root_mean_squared_error(y_test, y_test_pred_linreg_forward)\n",
    "RMSE_linreg_stepwise = root_mean_squared_error(y_test, y_test_pred_linreg_stepwise)\n",
    "\n",
    "print(f'RMSE régression linéaire backward : {RMSE_linreg_backward:.2f}')\n",
    "print(f'RMSE régression linéaire forward  : {RMSE_linreg_forward:.2f}')\n",
    "print(f'RMSE régression linéaire stepwise : {RMSE_linreg_stepwise:.2f}')"
   ]
  },
  {
   "cell_type": "code",
   "execution_count": null,
   "metadata": {},
   "outputs": [],
   "source": [
    "MAPE_linreg_backward = mean_absolute_percentage_error(y_test, y_test_pred_linreg_backward) * 100\n",
    "MAPE_linreg_forward  = mean_absolute_percentage_error(y_test, y_test_pred_linreg_forward) * 100\n",
    "MAPE_linreg_stepwise = mean_absolute_percentage_error(y_test, y_test_pred_linreg_stepwise) * 100\n",
    "\n",
    "print(f'MAPE régression linéaire backward : {MAPE_linreg_backward:.2f}')\n",
    "print(f'MAPE régression linéaire forward  : {MAPE_linreg_forward:.2f}')\n",
    "print(f'MAPE régression linéaire stepwise : {MAPE_linreg_stepwise:.2f}')"
   ]
  },
  {
   "attachments": {},
   "cell_type": "markdown",
   "metadata": {},
   "source": [
    "### 2.4. Modèle avec *feature engineering* (apprentissage / test)"
   ]
  },
  {
   "cell_type": "markdown",
   "metadata": {},
   "source": [
    "On ajoute les termes polynomiaux de degré 2 et les interactions."
   ]
  },
  {
   "attachments": {},
   "cell_type": "markdown",
   "metadata": {},
   "source": [
    "#### 2.4.1. Sans sélection de variable "
   ]
  },
  {
   "cell_type": "code",
   "execution_count": null,
   "metadata": {},
   "outputs": [],
   "source": [
    "transform_poly_interac = PolynomialFeatures(degree=2, interaction_only=False, include_bias=False)\n",
    "\n",
    "X_train_fe_array = transform_poly_interac.fit_transform(X_train)\n",
    "X_train_fe_ind = X_train.index\n",
    "X_train_fe_col = transform_poly_interac.get_feature_names_out(X_train.columns)\n",
    "X_train_fe = pd.DataFrame(X_train_fe_array, index=X_train_fe_ind, columns=X_train_fe_col)\n",
    "\n",
    "X_test_fe_array = transform_poly_interac.fit_transform(X_test)\n",
    "X_test_fe_ind = X_test.index\n",
    "X_test_fe_col = transform_poly_interac.get_feature_names_out(X_test.columns)\n",
    "X_test_fe = pd.DataFrame(X_test_fe_array, index=X_test_fe_ind, columns=X_test_fe_col)"
   ]
  },
  {
   "cell_type": "code",
   "execution_count": null,
   "metadata": {},
   "outputs": [],
   "source": [
    "linreg_all_model_fe = OLS(y_train, add_constant(X_train_fe))\n",
    "linreg_all_fe = linreg_all_model_fe.fit()\n",
    "linreg_all_fe.summary()"
   ]
  },
  {
   "attachments": {},
   "cell_type": "markdown",
   "metadata": {},
   "source": [
    "Le coefficient de détermination de ce modèle est plus élevé, il faut néanmoins étudier sa capacité à généraliser. "
   ]
  },
  {
   "cell_type": "code",
   "execution_count": null,
   "metadata": {},
   "outputs": [],
   "source": [
    "y_test_pred_linreg_all_fe = linreg_all_fe.predict(add_constant(X_test_fe))\n",
    "\n",
    "RMSE_linreg_all_fe = root_mean_squared_error(y_test, y_test_pred_linreg_all_fe)\n",
    "MAPE_linreg_all_fe = mean_absolute_percentage_error(y_test, y_test_pred_linreg_all_fe) * 100\n",
    "\n",
    "print(f'RMSE régression linéaire complète FE : {RMSE_linreg_all_fe:.2f}')\n",
    "print(f'MAPE régression linéaire complète FE : {MAPE_linreg_all_fe:.2f}')"
   ]
  },
  {
   "attachments": {},
   "cell_type": "markdown",
   "metadata": {},
   "source": [
    "#### 2.4.2. Avec sélection de variable"
   ]
  },
  {
   "attachments": {},
   "cell_type": "markdown",
   "metadata": {},
   "source": [
    "Les calculs des procédures backward et stepwise deviennnent chronophages avec ce feature engineering..."
   ]
  },
  {
   "cell_type": "code",
   "execution_count": null,
   "metadata": {},
   "outputs": [],
   "source": [
    "# linreg_backward_fe = lr.linreg_backward_proc(add_constant(X_train_fe), y_train, crit='BIC', verbose=True)"
   ]
  },
  {
   "cell_type": "code",
   "execution_count": null,
   "metadata": {},
   "outputs": [],
   "source": [
    "linreg_forward_fe = lr.linreg_forward_proc(add_constant(X_train_fe), y_train, crit='BIC', verbose=True)"
   ]
  },
  {
   "cell_type": "code",
   "execution_count": null,
   "metadata": {},
   "outputs": [],
   "source": [
    "# linreg_stepwise_fe = lr.linreg_stepwise_proc(add_constant(X_train_fe), y_train, crit='BIC', verbose=True)"
   ]
  },
  {
   "cell_type": "code",
   "execution_count": null,
   "metadata": {},
   "outputs": [],
   "source": [
    "# print('Nombre de paramètres du modèle backward FE :', linreg_backward_fe.params.shape[0])\n",
    "print('Nombre de paramètres du modèle forward FE  :', linreg_forward_fe.params.shape[0])\n",
    "# print('Nombre de paramètres du modèle stepwise FE :', linreg_stepwise_fe.params.shape[0])"
   ]
  },
  {
   "cell_type": "code",
   "execution_count": null,
   "metadata": {},
   "outputs": [],
   "source": [
    "# print('Covariables du modèle backward FE :', linreg_backward_fe.model.exog_names)\n",
    "print('Covariables du modèle forward FE  :', linreg_forward_fe.model.exog_names)\n",
    "# print('Covariables du modèle stepwise FE :', linreg_stepwise_fe.model.exog_names)"
   ]
  },
  {
   "cell_type": "code",
   "execution_count": null,
   "metadata": {},
   "outputs": [],
   "source": [
    "# print(f'BIC du modèle backward FE : {linreg_backward_fe.bic:.2f}')\n",
    "print(f'BIC du modèle forward FE  : {linreg_forward_fe.bic:.2f}')\n",
    "# print(f'BIC du modèle stepwise FE : {linreg_stepwise_fe.bic:.2f}')"
   ]
  },
  {
   "cell_type": "code",
   "execution_count": null,
   "metadata": {},
   "outputs": [],
   "source": [
    "# y_test_pred_linreg_backward_fe = linreg_backward_fe.predict(add_constant(X_test_fe)[linreg_backward_fe.model.exog_names])\n",
    "y_test_pred_linreg_forward_fe  = linreg_forward_fe.predict(add_constant(X_test_fe)[linreg_forward_fe.model.exog_names])\n",
    "# y_test_pred_linreg_stepwise_fe = linreg_stepwise_fe.predict(add_constant(X_test_fe)[linreg_stepwise_fe.model.exog_names])"
   ]
  },
  {
   "cell_type": "code",
   "execution_count": null,
   "metadata": {},
   "outputs": [],
   "source": [
    "# RMSE_linreg_backward_fe = root_mean_squared_error(y_test, y_test_pred_linreg_backward_fe)\n",
    "RMSE_linreg_forward_fe  = root_mean_squared_error(y_test, y_test_pred_linreg_forward_fe)\n",
    "# RMSE_linreg_stepwise_fe = root_mean_squared_error(y_test, y_test_pred_linreg_stepwise_fe)\n",
    "\n",
    "# print(f'RMSE régression linéaire backward FE : {RMSE_linreg_backward_fe:.2f}')\n",
    "print(f'RMSE régression linéaire forward FE  : {RMSE_linreg_forward_fe:.2f}')\n",
    "#print(f'RMSE régression linéaire stepwise FE : {RMSE_linreg_stepwise_fe:.2f}')"
   ]
  },
  {
   "cell_type": "code",
   "execution_count": null,
   "metadata": {},
   "outputs": [],
   "source": [
    "# MAPE_linreg_backward_fe = mean_absolute_percentage_error(y_test, y_test_pred_linreg_backward_fe) * 100\n",
    "MAPE_linreg_forward_fe  = mean_absolute_percentage_error(y_test, y_test_pred_linreg_forward_fe) * 100\n",
    "# MAPE_linreg_stepwise_fe = mean_absolute_percentage_error(y_test, y_test_pred_linreg_stepwise_fe) * 100\n",
    "\n",
    "# print(f'MAPE régression linéaire backward FE : {MAPE_linreg_backward_fe:.2f}')\n",
    "print(f'MAPE régression linéaire forward FE  : {MAPE_linreg_forward_fe:.2f}')\n",
    "# print(f'MAPE régression linéaire stepwise FE : {MAPE_linreg_stepwise_fe:.2f}')"
   ]
  },
  {
   "attachments": {},
   "cell_type": "markdown",
   "metadata": {},
   "source": [
    "### 2.5. Bilan"
   ]
  },
  {
   "cell_type": "code",
   "execution_count": null,
   "metadata": {},
   "outputs": [],
   "source": [
    "RMSE_model = {}\n",
    "\n",
    "RMSE_model['complète']    = RMSE_linreg_all\n",
    "RMSE_model['backward']    = RMSE_linreg_backward\n",
    "RMSE_model['forward']     = RMSE_linreg_forward\n",
    "RMSE_model['stepwise']    = RMSE_linreg_stepwise\n",
    "RMSE_model['complète FE'] = RMSE_linreg_all_fe\n",
    "# RMSE_model['backward FE'] = RMSE_linreg_backward_fe\n",
    "RMSE_model['forward FE']  = RMSE_linreg_forward_fe\n",
    "# RMSE_model['stepwise FE'] = RMSE_linreg_stepwise_fe\n",
    "\n",
    "RMSE_model"
   ]
  },
  {
   "cell_type": "code",
   "execution_count": null,
   "metadata": {},
   "outputs": [],
   "source": [
    "MAPE_model = {}\n",
    "\n",
    "MAPE_model['complète']    = MAPE_linreg_all\n",
    "MAPE_model['backward']    = MAPE_linreg_backward\n",
    "MAPE_model['forward']     = MAPE_linreg_forward\n",
    "MAPE_model['stepwise']    = MAPE_linreg_stepwise\n",
    "MAPE_model['complète FE'] = MAPE_linreg_all_fe\n",
    "# MAPE_model['backward FE'] = MAPE_linreg_backward_fe\n",
    "MAPE_model['forward FE']  = MAPE_linreg_forward_fe\n",
    "# MAPE_model['stepwise FE'] = MAPE_linreg_stepwise_fe\n",
    "\n",
    "MAPE_model"
   ]
  },
  {
   "cell_type": "code",
   "execution_count": null,
   "metadata": {},
   "outputs": [],
   "source": [
    "fig, ax = plt.subplots(figsize=(8, 6))\n",
    "ax.bar(RMSE_model.keys(), RMSE_model.values())\n",
    "#ax.grid()\n",
    "ax.tick_params(axis='x', labelrotation=90)\n",
    "ax.set_ylabel('RMSE')\n",
    "plt.title('Régressions linéaires')\n",
    "plt.show()"
   ]
  },
  {
   "cell_type": "code",
   "execution_count": null,
   "metadata": {},
   "outputs": [],
   "source": [
    "fig, ax = plt.subplots(figsize=(8, 6))\n",
    "ax.bar(RMSE_model.keys(), MAPE_model.values())\n",
    "#ax.grid()\n",
    "ax.tick_params(axis='x', labelrotation=90)\n",
    "ax.set_ylabel('MAPE')\n",
    "plt.title('Régressions linéaires')\n",
    "plt.show()"
   ]
  }
 ],
 "metadata": {
  "kernelspec": {
   "display_name": "base",
   "language": "python",
   "name": "python3"
  },
  "language_info": {
   "codemirror_mode": {
    "name": "ipython",
    "version": 3
   },
   "file_extension": ".py",
   "mimetype": "text/x-python",
   "name": "python",
   "nbconvert_exporter": "python",
   "pygments_lexer": "ipython3",
   "version": "3.11.8"
  },
  "orig_nbformat": 4,
  "vscode": {
   "interpreter": {
    "hash": "2e9e36f1340e170e8800ee6d78c50e6bc1b1d45d9673f2fd54f8f6cb1affbd62"
   }
  }
 },
 "nbformat": 4,
 "nbformat_minor": 2
}
